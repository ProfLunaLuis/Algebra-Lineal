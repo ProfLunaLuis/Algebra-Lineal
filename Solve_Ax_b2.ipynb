{
  "nbformat": 4,
  "nbformat_minor": 0,
  "metadata": {
    "colab": {
      "provenance": [],
      "authorship_tag": "ABX9TyMF2cThyKiktkfL8iOLjGJ4",
      "include_colab_link": true
    },
    "kernelspec": {
      "name": "python3",
      "display_name": "Python 3"
    },
    "language_info": {
      "name": "python"
    }
  },
  "cells": [
    {
      "cell_type": "markdown",
      "metadata": {
        "id": "view-in-github",
        "colab_type": "text"
      },
      "source": [
        "<a href=\"https://colab.research.google.com/github/ProfLunaLuis/Algebra-Lineal/blob/main/Solve_Ax_b2.ipynb\" target=\"_parent\"><img src=\"https://colab.research.google.com/assets/colab-badge.svg\" alt=\"Open In Colab\"/></a>"
      ]
    },
    {
      "cell_type": "code",
      "execution_count": 6,
      "metadata": {
        "colab": {
          "base_uri": "https://localhost:8080/"
        },
        "id": "UbM9zmbpcIPV",
        "outputId": "48d23441-1ee1-4aaf-a954-38ad671074ee"
      },
      "outputs": [
        {
          "output_type": "execute_result",
          "data": {
            "text/plain": [
              "array([2., 1.])"
            ]
          },
          "metadata": {},
          "execution_count": 6
        }
      ],
      "source": [
        "import numpy as np\n",
        "from scipy import linalg\n",
        "A = np.array([[2, 1],\n",
        "              [-4, 6]])\n",
        "b = np.array([5, -2])\n",
        "#np.linalg.solve(A, b)\n",
        "linalg.solve(A, b)"
      ]
    },
    {
      "cell_type": "code",
      "source": [
        "import matplotlib.pyplot as plt\n",
        "import numpy as np\n",
        "x = np.linspace(0,3,100)\n",
        "y1 = -2*x+5\n",
        "y2= (4*x-2)/6\n",
        "plt.plot(x, y1, '-r', label='y1=(3*x-4)/2')\n",
        "plt.plot(x, y2, '-b', label='y2=(12-5*x)/2')\n",
        "plt.title('Grafica de y_1 y y_2')\n",
        "plt.xlabel('x', color='#1C2833')\n",
        "plt.ylabel('y', color='#1C2833')\n",
        "plt.legend(loc='upper left')\n",
        "plt.grid()\n"
      ],
      "metadata": {
        "id": "K16NkufJ-Gqm"
      },
      "execution_count": null,
      "outputs": []
    },
    {
      "cell_type": "code",
      "source": [],
      "metadata": {
        "id": "8kziRvFqBwA-"
      },
      "execution_count": null,
      "outputs": []
    },
    {
      "cell_type": "code",
      "source": [],
      "metadata": {
        "id": "82-zJDxHBwZa"
      },
      "execution_count": null,
      "outputs": []
    }
  ]
}