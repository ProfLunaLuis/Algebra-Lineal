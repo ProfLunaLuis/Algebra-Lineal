{
  "nbformat": 4,
  "nbformat_minor": 0,
  "metadata": {
    "colab": {
      "name": "Untitled3.ipynb",
      "provenance": [],
      "authorship_tag": "ABX9TyNSA1glCnIpzJCUmxaAz5C6",
      "include_colab_link": true
    },
    "kernelspec": {
      "name": "python3",
      "display_name": "Python 3"
    },
    "language_info": {
      "name": "python"
    }
  },
  "cells": [
    {
      "cell_type": "markdown",
      "metadata": {
        "id": "view-in-github",
        "colab_type": "text"
      },
      "source": [
        "<a href=\"https://colab.research.google.com/github/ProfLunaLuis/Algebra-Lineal/blob/main/graficas_ecuaciones.ipynb\" target=\"_parent\"><img src=\"https://colab.research.google.com/assets/colab-badge.svg\" alt=\"Open In Colab\"/></a>"
      ]
    },
    {
      "cell_type": "code",
      "execution_count": null,
      "metadata": {
        "id": "hGB5l99QJZ4u"
      },
      "outputs": [],
      "source": [
        "\n",
        "\n",
        "import matplotlib.pyplot as plt\n",
        "import numpy as np\n",
        "fig = plt.figure()\n",
        "ax = fig.add_subplot(1, 1, 1)\n",
        "x = np.linspace(-5,5,100)\n",
        "ax.spines['left'].set_position('center')\n",
        "ax.spines['bottom'].set_position('center')\n",
        "ax.spines['right'].set_color('none')\n",
        "ax.spines['top'].set_color('none')\n",
        "ax.xaxis.set_ticks_position('bottom')\n",
        "ax.yaxis.set_ticks_position('left')\n",
        "plt.plot(x, 2*x+1, '-r', label='y=2x+1')\n",
        "plt.plot(x, 2*x-1,'-.g', label='y=2x-1')\n",
        "plt.plot(x, 2*x+3,':b', label='y=2x+3')\n",
        "plt.plot(x, 2*x-3,'--m', label='y=2x-3')\n",
        "plt.legend(loc='upper left')\n",
        "plt.show()\n",
        "\n"
      ]
    }
  ]
}