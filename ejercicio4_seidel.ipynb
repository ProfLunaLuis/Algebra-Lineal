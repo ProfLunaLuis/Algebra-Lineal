{
  "nbformat": 4,
  "nbformat_minor": 0,
  "metadata": {
    "colab": {
      "provenance": [],
      "authorship_tag": "ABX9TyPp/GOVkBJEsAlSrWnBLdSq",
      "include_colab_link": true
    },
    "kernelspec": {
      "name": "python3",
      "display_name": "Python 3"
    },
    "language_info": {
      "name": "python"
    }
  },
  "cells": [
    {
      "cell_type": "markdown",
      "metadata": {
        "id": "view-in-github",
        "colab_type": "text"
      },
      "source": [
        "<a href=\"https://colab.research.google.com/github/ProfLunaLuis/Algebra-Lineal/blob/main/ejercicio4_seidel.ipynb\" target=\"_parent\"><img src=\"https://colab.research.google.com/assets/colab-badge.svg\" alt=\"Open In Colab\"/></a>"
      ]
    },
    {
      "cell_type": "code",
      "execution_count": 6,
      "metadata": {
        "colab": {
          "base_uri": "https://localhost:8080/"
        },
        "id": "WeEBZmuMxOKR",
        "outputId": "ceb1fb80-8e68-4b2b-9f5d-7f9a20410cd8"
      },
      "outputs": [
        {
          "output_type": "stream",
          "name": "stdout",
          "text": [
            "[ 3.16641683 -2.50259357  6.99495562]\n"
          ]
        }
      ],
      "source": [
        "import numpy as np\n",
        "import numpy.linalg as al\n",
        "from sympy import *\n",
        "from scipy import linalg\n",
        "\n",
        "A = np.array([[3, 0.1, -0.2],\n",
        "              [0.1, 7, -0.3],\n",
        "              [0.3, -0.2, 10]])\n",
        "b = np.array([7.85, -19.3, 71.4])\n",
        "print(linalg.solve(A, b))\n",
        "\n",
        "#Declaramos C.I.\n",
        "xa0=np.array([0,0,0])\n",
        "xa_1=xa0[0]\n",
        "xa_2=xa0[1]\n",
        "xa_3=xa0[2]\n",
        "# Genero matriz donde se guardan datos\n",
        "A = np.zeros((10,3))\n",
        "#\n",
        "for i in range(1, 10, 1):\n",
        " xn_1=(27-2*xa_2+xa_3)/10\n",
        " xn_2=(-61.5+3*xa_1-2*xa_3)/-6\n",
        " xn_3=(-21.5-xa_1-xa_2)/5\n",
        "# Guardo los datos de x1, x2, x3 y x4 en el vector xa\n",
        " xa=np.array([xn_1,xn_2,xn_3])\n",
        " #norma_inf=al.norm(xa-xa0,np.inf)/al.norm(xa,np.inf)\n",
        "# print(norma_inf)\n",
        "# En la fila i se guardan los datos de x1, x2, x3 y x4\n",
        " A[i]=xa\n",
        " norma_inf=al.norm(A[i]-A[i-1],np.inf)/al.norm(A[i],np.inf)\n",
        " print(norma_inf)\n",
        " if norma_inf<0.001:\n",
        "    break\n",
        "#Accedo a los datos del vector para que se usen en el siguiente ciclo\n",
        " xa_1=xa[0]\n",
        " xa_2=xa[1]\n",
        " xa_3=xa[2]\n",
        "#\n",
        "print(A)"
      ]
    },
    {
      "cell_type": "code",
      "source": [],
      "metadata": {
        "id": "jq9Ftu0bozDj"
      },
      "execution_count": null,
      "outputs": []
    }
  ]
}