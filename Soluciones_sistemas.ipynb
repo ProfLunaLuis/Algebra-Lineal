{
  "nbformat": 4,
  "nbformat_minor": 0,
  "metadata": {
    "colab": {
      "name": "Soluciones_sistemas.ipynb",
      "provenance": [],
      "authorship_tag": "ABX9TyMdedXwgCMJ8d5aztha553T",
      "include_colab_link": true
    },
    "kernelspec": {
      "name": "python3",
      "display_name": "Python 3"
    },
    "language_info": {
      "name": "python"
    }
  },
  "cells": [
    {
      "cell_type": "markdown",
      "metadata": {
        "id": "view-in-github",
        "colab_type": "text"
      },
      "source": [
        "<a href=\"https://colab.research.google.com/github/ProfLunaLuis/Algebra-Lineal/blob/main/Soluciones_sistemas.ipynb\" target=\"_parent\"><img src=\"https://colab.research.google.com/assets/colab-badge.svg\" alt=\"Open In Colab\"/></a>"
      ]
    },
    {
      "cell_type": "code",
      "execution_count": 3,
      "metadata": {
        "colab": {
          "base_uri": "https://localhost:8080/",
          "height": 39
        },
        "id": "llpOwLDTb98W",
        "outputId": "842a5aca-ad63-4280-86d4-4055576d744c"
      },
      "outputs": [
        {
          "output_type": "execute_result",
          "data": {
            "text/plain": [
              "{x: 14, y: -11}"
            ],
            "image/png": "[encoded data removed]",
            "text/latex": "$\\displaystyle \\left\\{ x : 14, \\  y : -11\\right\\}$"
          },
          "metadata": {},
          "execution_count": 3
        }
      ],
      "source": [
        "import sympy as sp\n",
        "from sympy import *\n",
        "init_printing()\n",
        "var('x y')\n",
        "solve((x + y - 3, x + 2*y + 8), x, y)"
      ]
    },
    {
      "cell_type": "code",
      "source": [
        "solve((4*x + 5*y, -2*x -y - 3), x, y)"
      ],
      "metadata": {
        "colab": {
          "base_uri": "https://localhost:8080/",
          "height": 58
        },
        "id": "IRn_VmQSctz3",
        "outputId": "5b82e3f0-9013-4dbb-89a4-e234ee5c9250"
      },
      "execution_count": 4,
      "outputs": [
        {
          "output_type": "execute_result",
          "data": {
            "text/plain": [
              "{x: -5/2, y: 2}"
            ],
            "image/png": "[encoded data removed]",
            "text/latex": "$\\displaystyle \\left\\{ x : - \\frac{5}{2}, \\  y : 2\\right\\}$"
          },
          "metadata": {},
          "execution_count": 4
        }
      ]
    }
  ]
}